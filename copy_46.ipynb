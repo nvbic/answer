{
 "cells": [
  {
   "cell_type": "code",
   "execution_count": 12,
   "metadata": {},
   "outputs": [],
   "source": [
    "#46\n",
    "\n",
    "def permute(nums):\n",
    "    visited = set()\n",
    "    res = []\n",
    "    backtracking(res,visited,[],nums)\n",
    "    return res\n",
    "def backtracking(res,visited,subset,nums):\n",
    "    if len(subset) == len(nums):\n",
    "        res.append(subset)\n",
    "    for i in range(len(nums)):\n",
    "        if i not in visited:\n",
    "            visited.add(i)\n",
    "            backtracking(res,visited,subset+[nums[i]],nums)\n",
    "            visited.remove(i)\n",
    "        \n",
    "    "
   ]
  },
  {
   "cell_type": "code",
   "execution_count": 14,
   "metadata": {},
   "outputs": [],
   "source": [
    "#m 0.5 1203"
   ]
  },
  {
   "cell_type": "code",
   "execution_count": null,
   "metadata": {},
   "outputs": [],
   "source": []
  }
 ],
 "metadata": {
  "kernelspec": {
   "display_name": "Python 3",
   "language": "python",
   "name": "python3"
  },
  "language_info": {
   "codemirror_mode": {
    "name": "ipython",
    "version": 3
   },
   "file_extension": ".py",
   "mimetype": "text/x-python",
   "name": "python",
   "nbconvert_exporter": "python",
   "pygments_lexer": "ipython3",
   "version": "3.7.3"
  }
 },
 "nbformat": 4,
 "nbformat_minor": 2
}
