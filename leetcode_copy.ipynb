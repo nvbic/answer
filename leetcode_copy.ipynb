{
 "cells": [
  {
   "cell_type": "markdown",
   "metadata": {},
   "source": [
    "11.21"
   ]
  },
  {
   "cell_type": "code",
   "execution_count": null,
   "metadata": {},
   "outputs": [],
   "source": [
    "#11. Container With Most Water\n",
    "class Solution:\n",
    "    def maxArea(self, height: List[int]) -> int:\n",
    "        max_area=0\n",
    "        l,r=0, len(height) - 1\n",
    "        w=len(height)-1\n",
    "        while(w>=0):\n",
    "            max_area=max(min(height[l],height[r])*w,max_area)\n",
    "            if height[l]>height[r]:\n",
    "                r=r-1\n",
    "            else:\n",
    "                l=l+1\n",
    "            w=w-1\n",
    "        return max_area"
   ]
  },
  {
   "cell_type": "code",
   "execution_count": 14,
   "metadata": {},
   "outputs": [],
   "source": [
    "#42. Trapping Rain Water \n",
    "#need to improve\n",
    "\n",
    "class Solution:\n",
    "    def trap(self, height: List[int]) -> int:\n",
    "        def find_lay(aim):\n",
    "            s=0\n",
    "            l=len(aim)\n",
    "            while(l>1):\n",
    "                s=s+aim[l-1]-aim[l-2]-1\n",
    "                l=l-1\n",
    "            return s\n",
    "        if len(height)==0:\n",
    "            return 0\n",
    "        h=max(height)\n",
    "        ss=0\n",
    "        while(h>0):\n",
    "            list_use=[]\n",
    "            for i in range(0,len(height)):\n",
    "                if height[i]>=h:\n",
    "                    list_use.append(i)\n",
    "            ss=ss+find_lay(list_use)\n",
    "            h=h-1\n",
    "        return ss"
   ]
  },
  {
   "cell_type": "code",
   "execution_count": 78,
   "metadata": {},
   "outputs": [],
   "source": [
    "aa=[0,1,0,2,1,0,1,3,2,1,2,1]"
   ]
  },
  {
   "cell_type": "code",
   "execution_count": 83,
   "metadata": {},
   "outputs": [],
   "source": [
    "#42. Trapping Rain Water answer\n",
    "def trap(height) -> int:\n",
    "    if len(height)==0:\n",
    "        return 0\n",
    "    h=max(height)\n",
    "    def cal_tra(a,b,list_use):\n",
    "        if a==b:\n",
    "            return 0\n",
    "        else:\n",
    "            return min(list_use[a],list_use[b])*(b-a-1)-sum(list_use[a+1:b])\n",
    "    h_point_a=height.index(h)\n",
    "    s=0\n",
    "    def find_high(list_rise,s):\n",
    "        if len(list_rise[0:-1])==0:\n",
    "            return s\n",
    "        high=max(list_rise[0:-1])\n",
    "        w=len(list_rise)\n",
    "        h_point=list_rise.index(high)\n",
    "        s=s+cal_tra(h_point,w-1,list_rise)\n",
    "        list_u=list_rise[0:h_point+1]\n",
    "        print(s)\n",
    "        s=find_high(list_u,s)\n",
    "        return s\n",
    "    height_d=height[::-1]\n",
    "    h_point_d=height_d.index(h)\n",
    "    list1=height[0:h_point_a+1]\n",
    "    list2=height_d[0:h_point_d+1]\n",
    "    s=cal_tra(h_point_a,len(height)-h_point_d-1,height)\n",
    "    print('s0',s)\n",
    "    s=find_high(list1,s)\n",
    "    print('s1',s)\n",
    "    s=find_high(list2,s)\n",
    "    print('s2',s)\n",
    "    return s\n",
    "    "
   ]
  },
  {
   "cell_type": "markdown",
   "metadata": {},
   "source": [
    "m:1\n",
    "h:1"
   ]
  },
  {
   "cell_type": "code",
   "execution_count": null,
   "metadata": {},
   "outputs": [],
   "source": []
  }
 ],
 "metadata": {
  "kernelspec": {
   "display_name": "Python 3",
   "language": "python",
   "name": "python3"
  },
  "language_info": {
   "codemirror_mode": {
    "name": "ipython",
    "version": 3
   },
   "file_extension": ".py",
   "mimetype": "text/x-python",
   "name": "python",
   "nbconvert_exporter": "python",
   "pygments_lexer": "ipython3",
   "version": "3.7.3"
  }
 },
 "nbformat": 4,
 "nbformat_minor": 2
}
